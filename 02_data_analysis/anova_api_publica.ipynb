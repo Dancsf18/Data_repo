{
 "cells": [
  {
   "cell_type": "markdown",
   "id": "56390844",
   "metadata": {},
   "source": [
    "\n",
    "# 🌡️ ANOVA de Temperaturas entre Ciudades (API Pública Open‑Meteo)\n",
    "\n",
    "Este notebook descarga temperaturas **diarias** de varias ciudades usando la **API pública de Open‑Meteo**, \n",
    "verifica supuestos, ejecuta **ANOVA de un factor**, calcula **tamaños de efecto** y realiza pruebas **post-hoc (Tukey HSD)**.  \n",
    "También produce visualizaciones con **matplotlib** (sin seaborn).\n",
    "\n",
    "> Para ejecutar la descarga de datos necesitas conexión a Internet.\n"
   ]
  },
  {
   "cell_type": "code",
   "execution_count": null,
   "id": "d760e8a7",
   "metadata": {},
   "outputs": [],
   "source": [
    "\n",
    "import requests\n",
    "import pandas as pd\n",
    "import numpy as np\n",
    "from datetime import datetime, timedelta\n",
    "\n",
    "import matplotlib.pyplot as plt\n",
    "from scipy.stats import shapiro, levene, f_oneway, t\n",
    "import statsmodels.api as sm\n",
    "from statsmodels.formula.api import ols\n",
    "from statsmodels.stats.multicomp import pairwise_tukeyhsd\n"
   ]
  },
  {
   "cell_type": "code",
   "execution_count": null,
   "id": "1306a807",
   "metadata": {},
   "outputs": [],
   "source": [
    "\n",
    "# --- Configuración de ciudades y rango de fechas ---\n",
    "cities = {\n",
    "    \"Bogota\": (4.61, -74.08),\n",
    "    \"CDMX\": (19.43, -99.13),\n",
    "    \"Madrid\": (40.42, -3.70),\n",
    "    \"BuenosAires\": (-34.60, -58.38),\n",
    "    \"NewYork\": (40.71, -74.00),\n",
    "}\n",
    "\n",
    "# Rango: últimos 10 días (incluyendo hoy)\n",
    "end_date = datetime.now().date()\n",
    "start_date = end_date - timedelta(days=9)\n",
    "\n",
    "START = start_date.isoformat()\n",
    "END = end_date.isoformat()\n",
    "START, END\n"
   ]
  },
  {
   "cell_type": "code",
   "execution_count": null,
   "id": "93d161f5",
   "metadata": {},
   "outputs": [],
   "source": [
    "\n",
    "# --- Descarga de datos desde Open‑Meteo ---\n",
    "# Usaremos el endpoint de archive para obtener series horarias y promediar por día.\n",
    "\n",
    "ARCHIVE_URL = \"https://archive-api.open-meteo.com/v1/archive\"\n",
    "\n",
    "def fetch_city_daily_mean_temp(city_name: str, lat: float, lon: float, start: str, end: str) -> pd.DataFrame:\n",
    "    params = {\n",
    "        \"latitude\": lat,\n",
    "        \"longitude\": lon,\n",
    "        \"start_date\": start,\n",
    "        \"end_date\": end,\n",
    "        \"hourly\": \"temperature_2m\",\n",
    "        \"timezone\": \"auto\"\n",
    "    }\n",
    "    r = requests.get(ARCHIVE_URL, params=params, timeout=30)\n",
    "    r.raise_for_status()\n",
    "    js = r.json()\n",
    "    hourly = js.get(\"hourly\", {})\n",
    "    times = hourly.get(\"time\", [])\n",
    "    temps = hourly.get(\"temperature_2m\", [])\n",
    "    if not times or not temps:\n",
    "        return pd.DataFrame(columns=[\"city\", \"date\", \"temperature\"])\n",
    "    df = pd.DataFrame({\"datetime\": pd.to_datetime(times), \"temperature\": temps})\n",
    "    df[\"date\"] = df[\"datetime\"].dt.date\n",
    "    daily = df.groupby(\"date\", as_index=False)[\"temperature\"].mean()\n",
    "    daily[\"city\"] = city_name\n",
    "    return daily[[\"city\", \"date\", \"temperature\"]]\n"
   ]
  },
  {
   "cell_type": "code",
   "execution_count": null,
   "id": "4e34e2ef",
   "metadata": {},
   "outputs": [],
   "source": [
    "\n",
    "# --- Descarga y consolidación ---\n",
    "frames = []\n",
    "for name, (lat, lon) in cities.items():\n",
    "    try:\n",
    "        part = fetch_city_daily_mean_temp(name, lat, lon, START, END)\n",
    "        frames.append(part)\n",
    "    except Exception as e:\n",
    "        print(f\"Error con {name}: {e}\")\n",
    "\n",
    "df = pd.concat(frames, ignore_index=True) if frames else pd.DataFrame(columns=[\"city\",\"date\",\"temperature\"])\n",
    "print(\"Filas descargadas:\", len(df))\n",
    "df.head()\n"
   ]
  },
  {
   "cell_type": "code",
   "execution_count": null,
   "id": "9fb65d41",
   "metadata": {},
   "outputs": [],
   "source": [
    "\n",
    "# --- Limpieza y chequeos básicos ---\n",
    "df = df.dropna(subset=[\"temperature\"]).copy()\n",
    "df[\"city\"] = df[\"city\"].astype(\"category\")\n",
    "df[\"date\"] = pd.to_datetime(df[\"date\"])\n",
    "print(df.groupby(\"city\")[\"temperature\"].describe())\n"
   ]
  },
  {
   "cell_type": "code",
   "execution_count": null,
   "id": "061e94e3",
   "metadata": {},
   "outputs": [],
   "source": [
    "\n",
    "# --- Boxplot por ciudad (matplotlib puro) ---\n",
    "plt.figure(figsize=(8,5))\n",
    "data_by_city = [df[df[\"city\"] == c][\"temperature\"].values for c in df[\"city\"].cat.categories]\n",
    "plt.boxplot(data_by_city, labels=list(df[\"city\"].cat.categories), showmeans=True)\n",
    "plt.xlabel(\"Ciudad\")\n",
    "plt.ylabel(\"Temperatura diaria media (°C)\")\n",
    "plt.title(\"Distribución de temperaturas por ciudad\")\n",
    "plt.grid(True, axis=\"y\", linestyle=\"--\", alpha=0.6)\n",
    "plt.show()\n"
   ]
  },
  {
   "cell_type": "code",
   "execution_count": null,
   "id": "2d394890",
   "metadata": {},
   "outputs": [],
   "source": [
    "\n",
    "# --- Supuestos ANOVA ---\n",
    "# Shapiro-Wilk por grupo (nota: con pocas observaciones, el poder es limitado)\n",
    "normality_results = {}\n",
    "for c in df[\"city\"].cat.categories:\n",
    "    vals = df.loc[df[\"city\"] == c, \"temperature\"].values\n",
    "    if len(vals) >= 3:\n",
    "        stat, p = shapiro(vals)\n",
    "        normality_results[c] = {\"n\": len(vals), \"W\": stat, \"pvalue\": p}\n",
    "    else:\n",
    "        normality_results[c] = {\"n\": len(vals), \"W\": np.nan, \"pvalue\": np.nan}\n",
    "\n",
    "# Levene (homogeneidad de varianzas)\n",
    "groups = [df.loc[df[\"city\"] == c, \"temperature\"].values for c in df[\"city\"].cat.categories]\n",
    "lev_stat, lev_p = levene(*groups)\n",
    "\n",
    "print(\"== Shapiro-Wilk por ciudad ==\")\n",
    "for c, res in normality_results.items():\n",
    "    print(c, res)\n",
    "\n",
    "print(\"\\n== Levene ==\")\n",
    "print(f\"Statistic={lev_stat:.4f}, p-value={lev_p:.4f}\")\n"
   ]
  },
  {
   "cell_type": "code",
   "execution_count": null,
   "id": "9278387c",
   "metadata": {},
   "outputs": [],
   "source": [
    "\n",
    "# --- ANOVA: scipy (f_oneway) ---\n",
    "anova_stat, anova_p = f_oneway(*groups)\n",
    "print(f\"ANOVA (scipy) → F={anova_stat:.4f}, p-value={anova_p:.6f}\")\n",
    "\n",
    "# --- ANOVA y tamaños de efecto con statsmodels ---\n",
    "model = ols(\"temperature ~ C(city)\", data=df).fit()\n",
    "anova_tbl = sm.stats.anova_lm(model, typ=2)  # incluye sum_sq\n",
    "anova_tbl\n"
   ]
  },
  {
   "cell_type": "code",
   "execution_count": null,
   "id": "5cfc7296",
   "metadata": {},
   "outputs": [],
   "source": [
    "\n",
    "# --- Tamaños de efecto ---\n",
    "ss_between = anova_tbl.loc[\"C(city)\", \"sum_sq\"]\n",
    "ss_resid = anova_tbl.loc[\"Residual\", \"sum_sq\"]\n",
    "sst = ss_between + ss_resid\n",
    "df_between = anova_tbl.loc[\"C(city)\", \"df\"]\n",
    "df_resid = anova_tbl.loc[\"Residual\", \"df\"]\n",
    "\n",
    "eta_sq = ss_between / sst if sst > 0 else np.nan\n",
    "omega_sq = (ss_between - df_between * (ss_resid / df_resid)) / (sst + (ss_resid / df_resid)) if df_resid > 0 else np.nan\n",
    "\n",
    "print(f\"η² (eta squared): {eta_sq:.4f}\")\n",
    "print(f\"ω² (omega squared): {omega_sq:.4f}\")\n"
   ]
  },
  {
   "cell_type": "code",
   "execution_count": null,
   "id": "d782bfe1",
   "metadata": {},
   "outputs": [],
   "source": [
    "\n",
    "# --- Post-hoc: Tukey HSD ---\n",
    "tukey = pairwise_tukeyhsd(endog=df[\"temperature\"], groups=df[\"city\"], alpha=0.05)\n",
    "print(tukey.summary())\n",
    "# Guardar resultados a CSV\n",
    "tukey_df = pd.DataFrame(data=tukey._results_table.data[1:], columns=tukey._results_table.data[0])\n",
    "out_tukey = \"/mnt/data/tukey_results.csv\"\n",
    "tukey_df.to_csv(out_tukey, index=False)\n",
    "print(\"Tukey guardado en:\", out_tukey)\n"
   ]
  },
  {
   "cell_type": "code",
   "execution_count": null,
   "id": "b0ef0bbb",
   "metadata": {},
   "outputs": [],
   "source": [
    "\n",
    "# --- Medias e IC95% por ciudad ---\n",
    "summary = df.groupby(\"city\")[\"temperature\"].agg([\"mean\", \"std\", \"count\"]).reset_index()\n",
    "summary[\"se\"] = summary[\"std\"] / np.sqrt(summary[\"count\"])\n",
    "# IC con t de Student\n",
    "summary[\"tcrit\"] = summary[\"count\"].apply(lambda n: t.ppf(1-0.025, df=n-1) if n>1 else np.nan)\n",
    "summary[\"ci95\"] = summary[\"tcrit\"] * summary[\"se\"]\n",
    "summary\n"
   ]
  },
  {
   "cell_type": "code",
   "execution_count": null,
   "id": "019a69df",
   "metadata": {},
   "outputs": [],
   "source": [
    "\n",
    "# --- Plot de medias con IC95% ---\n",
    "plt.figure(figsize=(8,5))\n",
    "x = np.arange(len(summary))\n",
    "means = summary[\"mean\"].values\n",
    "ci = summary[\"ci95\"].values\n",
    "\n",
    "plt.errorbar(x, means, yerr=ci, fmt=\"o\", capsize=5)\n",
    "plt.xticks(x, summary[\"city\"].tolist(), rotation=0)\n",
    "plt.ylabel(\"Temperatura diaria media (°C)\")\n",
    "plt.title(\"Medias por ciudad con IC95%\")\n",
    "plt.grid(True, axis=\"y\", linestyle=\"--\", alpha=0.6)\n",
    "plt.show()\n"
   ]
  },
  {
   "cell_type": "code",
   "execution_count": null,
   "id": "b1a39582",
   "metadata": {},
   "outputs": [],
   "source": [
    "\n",
    "out_csv = \"/mnt/data/anova_temperaturas_ciudades.csv\"\n",
    "df.to_csv(out_csv, index=False)\n",
    "print(\"Datos guardados en:\", out_csv)\n"
   ]
  },
  {
   "cell_type": "markdown",
   "id": "57650473",
   "metadata": {},
   "source": [
    "\n",
    "## 🧠 Comentarios finales\n",
    "- **ANOVA de un factor** evalúa si las **medias** de temperatura difieren entre ciudades.\n",
    "- Se verificaron **supuestos** (normalidad por grupo y homocedasticidad). Con pocas observaciones, interpreta con cautela.\n",
    "- Se reportan **tamaños de efecto** (η², ω²) para cuantificar magnitud, no solo significancia.\n",
    "- **Tukey HSD** identifica **qué pares** de ciudades difieren con control del error familiar.\n",
    "- Si los supuestos no se cumplen, considera alternativas robustas (Kruskal‑Wallis + Dunn).\n",
    "\n",
    "> Repite el análisis con **más días** o **variables meteorológicas** (humedad, viento) para mayor potencia y contexto.\n"
   ]
  }
 ],
 "metadata": {},
 "nbformat": 4,
 "nbformat_minor": 5
}
