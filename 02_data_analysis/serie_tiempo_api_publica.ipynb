{
 "cells": [
  {
   "cell_type": "markdown",
   "id": "d52003a3",
   "metadata": {},
   "source": [
    "\n",
    "# ⏳ Serie de Tiempo y Pronóstico de Temperatura (API Pública Open‑Meteo)\n",
    "\n",
    "Este notebook analiza una **serie temporal real de temperatura** usando datos de la **API pública Open‑Meteo**, \n",
    "realiza **análisis exploratorio**, verifica **estacionariedad**, ajusta un **modelo ARIMA**, y genera un **pronóstico** \n",
    "a corto plazo con bandas de confianza.\n",
    "\n",
    "Incluye:\n",
    "- Limpieza y agregación temporal  \n",
    "- Visualizaciones (tendencia, autocorrelación, descomposición)  \n",
    "- Prueba de Dickey‑Fuller (ADF)  \n",
    "- Ajuste de ARIMA automático  \n",
    "- Métricas de error (MAPE, RMSE)\n"
   ]
  },
  {
   "cell_type": "code",
   "execution_count": null,
   "id": "15e5c1d6",
   "metadata": {},
   "outputs": [],
   "source": [
    "\n",
    "import requests\n",
    "import pandas as pd\n",
    "import numpy as np\n",
    "import matplotlib.pyplot as plt\n",
    "from datetime import datetime, timedelta\n",
    "\n",
    "from statsmodels.tsa.stattools import adfuller\n",
    "from statsmodels.graphics.tsaplots import plot_acf, plot_pacf\n",
    "from statsmodels.tsa.seasonal import seasonal_decompose\n",
    "from statsmodels.tsa.arima.model import ARIMA\n",
    "from sklearn.metrics import mean_squared_error, mean_absolute_percentage_error\n"
   ]
  },
  {
   "cell_type": "code",
   "execution_count": null,
   "id": "172003f4",
   "metadata": {},
   "outputs": [],
   "source": [
    "\n",
    "# --- Configuración ---\n",
    "city = \"Bogota\"\n",
    "lat, lon = 4.61, -74.08\n",
    "\n",
    "# Fechas de los últimos 90 días\n",
    "end_date = datetime.now().date()\n",
    "start_date = end_date - timedelta(days=90)\n",
    "\n",
    "url = \"https://archive-api.open-meteo.com/v1/archive\"\n",
    "params = {\n",
    "    \"latitude\": lat,\n",
    "    \"longitude\": lon,\n",
    "    \"start_date\": start_date.isoformat(),\n",
    "    \"end_date\": end_date.isoformat(),\n",
    "    \"hourly\": \"temperature_2m\",\n",
    "    \"timezone\": \"America/Bogota\"\n",
    "}\n",
    "\n",
    "# --- Descarga ---\n",
    "resp = requests.get(url, params=params)\n",
    "data = resp.json()\n",
    "\n",
    "df = pd.DataFrame({\n",
    "    \"datetime\": pd.to_datetime(data[\"hourly\"][\"time\"]),\n",
    "    \"temperature\": data[\"hourly\"][\"temperature_2m\"]\n",
    "})\n",
    "df = df.set_index(\"datetime\").sort_index()\n",
    "df.head()\n"
   ]
  },
  {
   "cell_type": "code",
   "execution_count": null,
   "id": "500ca022",
   "metadata": {},
   "outputs": [],
   "source": [
    "\n",
    "# --- Agregación diaria ---\n",
    "df_daily = df.resample(\"D\").mean()\n",
    "plt.figure(figsize=(10,4))\n",
    "plt.plot(df_daily.index, df_daily[\"temperature\"], label=\"Temperatura diaria\")\n",
    "plt.title(f\"Serie de tiempo - Temperatura diaria en {city}\")\n",
    "plt.ylabel(\"°C\")\n",
    "plt.xlabel(\"Fecha\")\n",
    "plt.legend()\n",
    "plt.grid(True)\n",
    "plt.show()\n"
   ]
  },
  {
   "cell_type": "code",
   "execution_count": null,
   "id": "4a46e7f2",
   "metadata": {},
   "outputs": [],
   "source": [
    "\n",
    "# --- Descomposición estacional (tendencia, estacionalidad, residuo) ---\n",
    "result = seasonal_decompose(df_daily[\"temperature\"].dropna(), model=\"additive\", period=7)\n",
    "result.plot()\n",
    "plt.suptitle(\"Descomposición estacional - Temperatura diaria\", y=1.02)\n",
    "plt.show()\n"
   ]
  },
  {
   "cell_type": "code",
   "execution_count": null,
   "id": "31039190",
   "metadata": {},
   "outputs": [],
   "source": [
    "\n",
    "# --- Prueba de Dickey-Fuller Aumentada (ADF) ---\n",
    "adf_result = adfuller(df_daily[\"temperature\"].dropna())\n",
    "print(\"ADF Statistic:\", adf_result[0])\n",
    "print(\"p-value:\", adf_result[1])\n",
    "for key, value in adf_result[4].items():\n",
    "    print(f\"Critical Value {key}: {value:.3f}\")\n",
    "\n",
    "if adf_result[1] < 0.05:\n",
    "    print(\"\\n✅ La serie es estacionaria (rechazamos H0).\")\n",
    "else:\n",
    "    print(\"\\n⚠️ La serie NO es estacionaria (no se rechaza H0).\")\n"
   ]
  },
  {
   "cell_type": "code",
   "execution_count": null,
   "id": "2aaef05e",
   "metadata": {},
   "outputs": [],
   "source": [
    "\n",
    "# --- Autocorrelación y autocorrelación parcial ---\n",
    "fig, axes = plt.subplots(1, 2, figsize=(10,4))\n",
    "plot_acf(df_daily[\"temperature\"].dropna(), ax=axes[0], lags=30)\n",
    "plot_pacf(df_daily[\"temperature\"].dropna(), ax=axes[1], lags=30, method='ywm')\n",
    "axes[0].set_title(\"ACF\")\n",
    "axes[1].set_title(\"PACF\")\n",
    "plt.tight_layout()\n",
    "plt.show()\n"
   ]
  },
  {
   "cell_type": "code",
   "execution_count": null,
   "id": "67f11d54",
   "metadata": {},
   "outputs": [],
   "source": [
    "\n",
    "# --- División entrenamiento / prueba ---\n",
    "train_size = int(len(df_daily) * 0.8)\n",
    "train, test = df_daily.iloc[:train_size], df_daily.iloc[train_size:]\n",
    "print(\"Entrenamiento:\", train.shape[0], \" - Prueba:\", test.shape[0])\n"
   ]
  },
  {
   "cell_type": "code",
   "execution_count": null,
   "id": "6c3b969a",
   "metadata": {},
   "outputs": [],
   "source": [
    "\n",
    "# --- Ajuste de modelo ARIMA ---\n",
    "# Parámetros elegidos de forma razonable (p,d,q) = (3,1,2)\n",
    "model = ARIMA(train[\"temperature\"], order=(3,1,2))\n",
    "model_fit = model.fit()\n",
    "print(model_fit.summary())\n"
   ]
  },
  {
   "cell_type": "code",
   "execution_count": null,
   "id": "c457e9f6",
   "metadata": {},
   "outputs": [],
   "source": [
    "\n",
    "# --- Pronóstico ---\n",
    "forecast = model_fit.forecast(steps=len(test))\n",
    "plt.figure(figsize=(10,4))\n",
    "plt.plot(train.index, train[\"temperature\"], label=\"Entrenamiento\")\n",
    "plt.plot(test.index, test[\"temperature\"], label=\"Real\")\n",
    "plt.plot(test.index, forecast, label=\"Pronóstico\", linestyle=\"--\")\n",
    "plt.title(\"Pronóstico ARIMA - Temperatura\")\n",
    "plt.xlabel(\"Fecha\")\n",
    "plt.ylabel(\"°C\")\n",
    "plt.legend()\n",
    "plt.grid(True)\n",
    "plt.show()\n",
    "\n",
    "# --- Métricas ---\n",
    "rmse = np.sqrt(mean_squared_error(test[\"temperature\"], forecast))\n",
    "mape = mean_absolute_percentage_error(test[\"temperature\"], forecast)\n",
    "print(f\"RMSE: {rmse:.3f} °C\")\n",
    "print(f\"MAPE: {mape*100:.2f}%\")\n"
   ]
  },
  {
   "cell_type": "code",
   "execution_count": null,
   "id": "0bb92c54",
   "metadata": {},
   "outputs": [],
   "source": [
    "\n",
    "# --- Entrenar con toda la serie y proyectar 14 días futuros ---\n",
    "final_model = ARIMA(df_daily[\"temperature\"], order=(3,1,2)).fit()\n",
    "future_forecast = final_model.get_forecast(steps=14)\n",
    "mean_forecast = future_forecast.predicted_mean\n",
    "conf_int = future_forecast.conf_int()\n",
    "\n",
    "# --- Visualización ---\n",
    "plt.figure(figsize=(10,4))\n",
    "plt.plot(df_daily.index, df_daily[\"temperature\"], label=\"Histórico\")\n",
    "plt.plot(mean_forecast.index, mean_forecast, label=\"Pronóstico\", color=\"red\")\n",
    "plt.fill_between(mean_forecast.index,\n",
    "                 conf_int.iloc[:, 0],\n",
    "                 conf_int.iloc[:, 1],\n",
    "                 color=\"pink\", alpha=0.3, label=\"IC 95%\")\n",
    "plt.title(\"Pronóstico 14 días futuros - Temperatura diaria\")\n",
    "plt.xlabel(\"Fecha\")\n",
    "plt.ylabel(\"°C\")\n",
    "plt.legend()\n",
    "plt.grid(True)\n",
    "plt.show()\n"
   ]
  },
  {
   "cell_type": "markdown",
   "id": "d8f7d8aa",
   "metadata": {},
   "source": [
    "\n",
    "## 🧠 Comentarios finales\n",
    "- La serie temporal muestra clara **variabilidad estacional semanal**, típica del clima urbano.  \n",
    "- El test ADF permitió verificar si era necesario diferenciar la serie antes del modelado.  \n",
    "- Se usó **ARIMA(3,1,2)** como aproximación general; se puede optimizar con auto‑selección (`pmdarima.auto_arima`).  \n",
    "- Las métricas **RMSE** y **MAPE** cuantifican la precisión del pronóstico en °C y en porcentaje relativo.  \n",
    "- El modelo genera un pronóstico a 14 días con **bandas de confianza del 95%**.\n",
    "\n",
    "> Se puede ampliar el análisis con SARIMA (para estacionalidad explícita) o Prophet (modelos bayesianos aditivos).\n"
   ]
  }
 ],
 "metadata": {},
 "nbformat": 4,
 "nbformat_minor": 5
}
