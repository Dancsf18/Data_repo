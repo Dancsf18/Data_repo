{
 "cells": [
  {
   "cell_type": "markdown",
   "id": "07d20acb",
   "metadata": {},
   "source": [
    "\n",
    "# 🧪 Prueba A/B con Datos Reales de una API Pública (Fake Store API)\n",
    "\n",
    "Este notebook implementa un **experimento A/B** usando datos de una **API pública real**, \n",
    "para analizar si existe una **diferencia estadísticamente significativa** en las tasas de conversión entre dos grupos de usuarios \n",
    "(versión A y versión B de una página de producto).\n",
    "\n",
    "Se utilizan datos reales de la [Fake Store API](https://fakestoreapi.com/), una fuente pública que emula un e‑commerce, \n",
    "para simular un escenario de marketing digital y analizar métricas con herramientas estadísticas modernas.\n",
    "\n",
    "Incluye:\n",
    "- Descarga y exploración de datos reales  \n",
    "- Generación y asignación de grupos A/B  \n",
    "- Cálculo de tasas de conversión y métricas descriptivas  \n",
    "- Test de hipótesis (Z‑test, χ²)  \n",
    "- Intervalos de confianza (95%)  \n",
    "- Tamaño del efecto (Cohen’s *h*)  \n",
    "- Análisis de poder estadístico  \n",
    "- Visualizaciones interpretativas\n"
   ]
  },
  {
   "cell_type": "code",
   "execution_count": 1,
   "id": "a8724a46",
   "metadata": {},
   "outputs": [],
   "source": [
    "\n",
    "import requests\n",
    "import pandas as pd\n",
    "import numpy as np\n",
    "import matplotlib.pyplot as plt\n",
    "\n",
    "from scipy.stats import chi2_contingency\n",
    "from statsmodels.stats.proportion import proportions_ztest, proportion_confint\n",
    "from statsmodels.stats.power import zt_ind_solve_power\n",
    "\n",
    "plt.style.use(\"seaborn-v0_8-whitegrid\")\n"
   ]
  },
  {
   "cell_type": "code",
   "execution_count": 2,
   "id": "d6a3704b",
   "metadata": {},
   "outputs": [
    {
     "name": "stdout",
     "output_type": "stream",
     "text": [
      "Productos descargados: 20\n"
     ]
    },
    {
     "data": {
      "text/html": [
       "<div>\n",
       "<style scoped>\n",
       "    .dataframe tbody tr th:only-of-type {\n",
       "        vertical-align: middle;\n",
       "    }\n",
       "\n",
       "    .dataframe tbody tr th {\n",
       "        vertical-align: top;\n",
       "    }\n",
       "\n",
       "    .dataframe thead th {\n",
       "        text-align: right;\n",
       "    }\n",
       "</style>\n",
       "<table border=\"1\" class=\"dataframe\">\n",
       "  <thead>\n",
       "    <tr style=\"text-align: right;\">\n",
       "      <th></th>\n",
       "      <th>id</th>\n",
       "      <th>title</th>\n",
       "      <th>price</th>\n",
       "      <th>category</th>\n",
       "      <th>rating_rate</th>\n",
       "      <th>rating_count</th>\n",
       "    </tr>\n",
       "  </thead>\n",
       "  <tbody>\n",
       "    <tr>\n",
       "      <th>0</th>\n",
       "      <td>1</td>\n",
       "      <td>Fjallraven - Foldsack No. 1 Backpack, Fits 15 ...</td>\n",
       "      <td>109.95</td>\n",
       "      <td>men's clothing</td>\n",
       "      <td>3.9</td>\n",
       "      <td>120</td>\n",
       "    </tr>\n",
       "    <tr>\n",
       "      <th>1</th>\n",
       "      <td>2</td>\n",
       "      <td>Mens Casual Premium Slim Fit T-Shirts</td>\n",
       "      <td>22.30</td>\n",
       "      <td>men's clothing</td>\n",
       "      <td>4.1</td>\n",
       "      <td>259</td>\n",
       "    </tr>\n",
       "    <tr>\n",
       "      <th>2</th>\n",
       "      <td>3</td>\n",
       "      <td>Mens Cotton Jacket</td>\n",
       "      <td>55.99</td>\n",
       "      <td>men's clothing</td>\n",
       "      <td>4.7</td>\n",
       "      <td>500</td>\n",
       "    </tr>\n",
       "    <tr>\n",
       "      <th>3</th>\n",
       "      <td>4</td>\n",
       "      <td>Mens Casual Slim Fit</td>\n",
       "      <td>15.99</td>\n",
       "      <td>men's clothing</td>\n",
       "      <td>2.1</td>\n",
       "      <td>430</td>\n",
       "    </tr>\n",
       "    <tr>\n",
       "      <th>4</th>\n",
       "      <td>5</td>\n",
       "      <td>John Hardy Women's Legends Naga Gold &amp; Silver ...</td>\n",
       "      <td>695.00</td>\n",
       "      <td>jewelery</td>\n",
       "      <td>4.6</td>\n",
       "      <td>400</td>\n",
       "    </tr>\n",
       "  </tbody>\n",
       "</table>\n",
       "</div>"
      ],
      "text/plain": [
       "   id                                              title   price  \\\n",
       "0   1  Fjallraven - Foldsack No. 1 Backpack, Fits 15 ...  109.95   \n",
       "1   2             Mens Casual Premium Slim Fit T-Shirts    22.30   \n",
       "2   3                                 Mens Cotton Jacket   55.99   \n",
       "3   4                               Mens Casual Slim Fit   15.99   \n",
       "4   5  John Hardy Women's Legends Naga Gold & Silver ...  695.00   \n",
       "\n",
       "         category  rating_rate  rating_count  \n",
       "0  men's clothing          3.9           120  \n",
       "1  men's clothing          4.1           259  \n",
       "2  men's clothing          4.7           500  \n",
       "3  men's clothing          2.1           430  \n",
       "4        jewelery          4.6           400  "
      ]
     },
     "execution_count": 2,
     "metadata": {},
     "output_type": "execute_result"
    }
   ],
   "source": [
    "\n",
    "# --- Descarga de datos de Fake Store API ---\n",
    "# Esta API devuelve productos de una tienda simulada, incluyendo precios y categorías.\n",
    "url = \"https://fakestoreapi.com/products\"\n",
    "resp = requests.get(url, timeout=30)\n",
    "resp.raise_for_status()\n",
    "data = resp.json()\n",
    "\n",
    "df = pd.DataFrame(data)\n",
    "df = df[[\"id\", \"title\", \"price\", \"category\", \"rating\"]].copy()\n",
    "df[\"rating_rate\"] = df[\"rating\"].apply(lambda x: x.get(\"rate\", np.nan))\n",
    "df[\"rating_count\"] = df[\"rating\"].apply(lambda x: x.get(\"count\", np.nan))\n",
    "df.drop(columns=\"rating\", inplace=True)\n",
    "\n",
    "print(\"Productos descargados:\", len(df))\n",
    "df.head()\n"
   ]
  },
  {
   "cell_type": "code",
   "execution_count": 3,
   "id": "4da974b3",
   "metadata": {},
   "outputs": [
    {
     "data": {
      "text/html": [
       "<div>\n",
       "<style scoped>\n",
       "    .dataframe tbody tr th:only-of-type {\n",
       "        vertical-align: middle;\n",
       "    }\n",
       "\n",
       "    .dataframe tbody tr th {\n",
       "        vertical-align: top;\n",
       "    }\n",
       "\n",
       "    .dataframe thead th {\n",
       "        text-align: right;\n",
       "    }\n",
       "</style>\n",
       "<table border=\"1\" class=\"dataframe\">\n",
       "  <thead>\n",
       "    <tr style=\"text-align: right;\">\n",
       "      <th></th>\n",
       "      <th>group</th>\n",
       "      <th>product_id</th>\n",
       "      <th>converted</th>\n",
       "    </tr>\n",
       "  </thead>\n",
       "  <tbody>\n",
       "    <tr>\n",
       "      <th>0</th>\n",
       "      <td>A</td>\n",
       "      <td>19</td>\n",
       "      <td>1</td>\n",
       "    </tr>\n",
       "    <tr>\n",
       "      <th>1</th>\n",
       "      <td>B</td>\n",
       "      <td>8</td>\n",
       "      <td>0</td>\n",
       "    </tr>\n",
       "    <tr>\n",
       "      <th>2</th>\n",
       "      <td>B</td>\n",
       "      <td>7</td>\n",
       "      <td>0</td>\n",
       "    </tr>\n",
       "    <tr>\n",
       "      <th>3</th>\n",
       "      <td>B</td>\n",
       "      <td>16</td>\n",
       "      <td>0</td>\n",
       "    </tr>\n",
       "    <tr>\n",
       "      <th>4</th>\n",
       "      <td>A</td>\n",
       "      <td>19</td>\n",
       "      <td>0</td>\n",
       "    </tr>\n",
       "  </tbody>\n",
       "</table>\n",
       "</div>"
      ],
      "text/plain": [
       "  group  product_id  converted\n",
       "0     A          19          1\n",
       "1     B           8          0\n",
       "2     B           7          0\n",
       "3     B          16          0\n",
       "4     A          19          0"
      ]
     },
     "execution_count": 3,
     "metadata": {},
     "output_type": "execute_result"
    }
   ],
   "source": [
    "\n",
    "# --- Simulación de visitas y conversiones ---\n",
    "# Supongamos que cada producto fue mostrado a un grupo A y B con diferentes CTRs.\n",
    "\n",
    "np.random.seed(42)\n",
    "n_visits = 5000\n",
    "\n",
    "# Asignación aleatoria de grupo\n",
    "groups = np.random.choice([\"A\", \"B\"], size=n_visits, p=[0.5, 0.5])\n",
    "\n",
    "# Selección de productos aleatoria\n",
    "products = np.random.choice(df[\"id\"], size=n_visits, replace=True)\n",
    "\n",
    "# Simulación de conversión basada en precio y grupo\n",
    "# Grupo A: tasa base de 10%; Grupo B: ligeramente mayor si precio < 50\n",
    "conversions = []\n",
    "for g, pid in zip(groups, products):\n",
    "    price = df.loc[df[\"id\"] == pid, \"price\"].values[0]\n",
    "    base_p = 0.10 if g == \"A\" else 0.10 + (0.03 if price < 50 else 0.0)\n",
    "    conversions.append(np.random.binomial(1, base_p))\n",
    "\n",
    "ab_data = pd.DataFrame({\"group\": groups, \"product_id\": products, \"converted\": conversions})\n",
    "ab_data.head()\n"
   ]
  },
  {
   "cell_type": "code",
   "execution_count": 4,
   "id": "b4dadf47",
   "metadata": {},
   "outputs": [
    {
     "data": {
      "text/html": [
       "<div>\n",
       "<style scoped>\n",
       "    .dataframe tbody tr th:only-of-type {\n",
       "        vertical-align: middle;\n",
       "    }\n",
       "\n",
       "    .dataframe tbody tr th {\n",
       "        vertical-align: top;\n",
       "    }\n",
       "\n",
       "    .dataframe thead th {\n",
       "        text-align: right;\n",
       "    }\n",
       "</style>\n",
       "<table border=\"1\" class=\"dataframe\">\n",
       "  <thead>\n",
       "    <tr style=\"text-align: right;\">\n",
       "      <th></th>\n",
       "      <th>conversion_rate</th>\n",
       "      <th>sum</th>\n",
       "      <th>count</th>\n",
       "      <th>conversion_rate_%</th>\n",
       "    </tr>\n",
       "    <tr>\n",
       "      <th>group</th>\n",
       "      <th></th>\n",
       "      <th></th>\n",
       "      <th></th>\n",
       "      <th></th>\n",
       "    </tr>\n",
       "  </thead>\n",
       "  <tbody>\n",
       "    <tr>\n",
       "      <th>A</th>\n",
       "      <td>0.0936</td>\n",
       "      <td>234</td>\n",
       "      <td>2500</td>\n",
       "      <td>9.36</td>\n",
       "    </tr>\n",
       "    <tr>\n",
       "      <th>B</th>\n",
       "      <td>0.1144</td>\n",
       "      <td>286</td>\n",
       "      <td>2500</td>\n",
       "      <td>11.44</td>\n",
       "    </tr>\n",
       "  </tbody>\n",
       "</table>\n",
       "</div>"
      ],
      "text/plain": [
       "       conversion_rate  sum  count  conversion_rate_%\n",
       "group                                                \n",
       "A               0.0936  234   2500               9.36\n",
       "B               0.1144  286   2500              11.44"
      ]
     },
     "execution_count": 4,
     "metadata": {},
     "output_type": "execute_result"
    }
   ],
   "source": [
    "\n",
    "# --- Análisis descriptivo ---\n",
    "summary = ab_data.groupby(\"group\")[\"converted\"].agg([\"mean\", \"sum\", \"count\"])\n",
    "summary[\"conversion_rate_%\"] = summary[\"mean\"] * 100\n",
    "summary.rename(columns={\"mean\": \"conversion_rate\"}, inplace=True)\n",
    "summary\n"
   ]
  },
  {
   "cell_type": "code",
   "execution_count": 5,
   "id": "8a380b90",
   "metadata": {},
   "outputs": [
    {
     "name": "stdout",
     "output_type": "stream",
     "text": [
      "Z-statistic: -2.4090602791485787\n",
      "p-value: 0.015993656122100165\n",
      "\n",
      "Intervalos de confianza al 95%:\n",
      "Grupo A: [0.08218237 0.10192301]\n",
      "Grupo B: [0.10501763 0.12687699]\n",
      "\n",
      "✅ Se rechaza H₀: existe diferencia significativa entre A y B.\n"
     ]
    }
   ],
   "source": [
    "\n",
    "# --- Test de proporciones (Z-test) ---\n",
    "count = ab_data.groupby(\"group\")[\"converted\"].sum().values\n",
    "nobs = ab_data.groupby(\"group\")[\"converted\"].count().values\n",
    "\n",
    "stat, pval = proportions_ztest(count, nobs, alternative=\"two-sided\")\n",
    "confint = proportion_confint(count, nobs, method=\"normal\")\n",
    "\n",
    "print(\"Z-statistic:\", stat)\n",
    "print(\"p-value:\", pval)\n",
    "print(\"\\nIntervalos de confianza al 95%:\")\n",
    "print(\"Grupo A:\", confint[0])\n",
    "print(\"Grupo B:\", confint[1])\n",
    "\n",
    "if pval < 0.05:\n",
    "    print(\"\\n✅ Se rechaza H₀: existe diferencia significativa entre A y B.\")\n",
    "else:\n",
    "    print(\"\\n⚠️ No se rechaza H₀: no hay evidencia suficiente de diferencia.\")\n"
   ]
  },
  {
   "cell_type": "code",
   "execution_count": 6,
   "id": "fd409926",
   "metadata": {},
   "outputs": [
    {
     "name": "stdout",
     "output_type": "stream",
     "text": [
      "Chi² Statistic: 5.582503434065934\n",
      "p-value: 0.018140773276543704\n",
      "\n",
      "✅ Rechazamos H₀: existe relación entre grupo y conversión.\n"
     ]
    }
   ],
   "source": [
    "\n",
    "# --- Test χ² (independencia entre grupo y conversión) ---\n",
    "contingency = pd.crosstab(ab_data[\"group\"], ab_data[\"converted\"])\n",
    "chi2, p, dof, expected = chi2_contingency(contingency)\n",
    "print(\"Chi² Statistic:\", chi2)\n",
    "print(\"p-value:\", p)\n",
    "\n",
    "if p < 0.05:\n",
    "    print(\"\\n✅ Rechazamos H₀: existe relación entre grupo y conversión.\")\n",
    "else:\n",
    "    print(\"\\n⚠️ No se rechaza H₀: no hay evidencia de diferencia.\")\n"
   ]
  },
  {
   "cell_type": "code",
   "execution_count": 7,
   "id": "70cdb050",
   "metadata": {},
   "outputs": [
    {
     "name": "stdout",
     "output_type": "stream",
     "text": [
      "Cohen’s h: -0.0065\n",
      "Tamaño del efecto: pequeño\n"
     ]
    }
   ],
   "source": [
    "\n",
    "# --- Cálculo de tamaño del efecto (Cohen's h) ---\n",
    "p1, p2 = summary.loc[\"A\", \"conversion_rate\"], summary.loc[\"B\", \"conversion_rate\"]\n",
    "p1 /= 100; p2 /= 100\n",
    "\n",
    "def cohens_h(p1, p2):\n",
    "    return 2 * (np.arcsin(np.sqrt(p1)) - np.arcsin(np.sqrt(p2)))\n",
    "\n",
    "h = cohens_h(p1, p2)\n",
    "print(f\"Cohen’s h: {h:.4f}\")\n",
    "\n",
    "if abs(h) < 0.2:\n",
    "    effect = \"pequeño\"\n",
    "elif abs(h) < 0.5:\n",
    "    effect = \"mediano\"\n",
    "else:\n",
    "    effect = \"grande\"\n",
    "print(f\"Tamaño del efecto: {effect}\")\n"
   ]
  },
  {
   "cell_type": "code",
   "execution_count": 8,
   "id": "a81beba8",
   "metadata": {},
   "outputs": [
    {
     "name": "stdout",
     "output_type": "stream",
     "text": [
      "Poder estadístico: 0.056\n",
      "⚠️ Poder bajo: puede requerirse más muestra.\n"
     ]
    }
   ],
   "source": [
    "\n",
    "# --- Análisis de poder (power analysis) ---\n",
    "# Queremos saber con qué probabilidad detectaríamos un efecto del tamaño observado.\n",
    "power = zt_ind_solve_power(effect_size=h, nobs1=nobs[0], alpha=0.05, ratio=nobs[1]/nobs[0], alternative=\"two-sided\")\n",
    "print(f\"Poder estadístico: {power:.3f}\")\n",
    "\n",
    "if power >= 0.8:\n",
    "    print(\"✅ Poder suficiente (≥ 0.8) para detectar la diferencia observada.\")\n",
    "else:\n",
    "    print(\"⚠️ Poder bajo: puede requerirse más muestra.\")\n"
   ]
  },
  {
   "cell_type": "code",
   "execution_count": 9,
   "id": "7a2fc6cb",
   "metadata": {},
   "outputs": [
    {
     "data": {
      "image/png": "[encoded data removed]",
      "text/plain": [
       "<Figure size 700x500 with 1 Axes>"
      ]
     },
     "metadata": {},
     "output_type": "display_data"
    },
    {
     "data": {
      "image/png": "[encoded data removed]",
      "text/plain": [
       "<Figure size 700x400 with 1 Axes>"
      ]
     },
     "metadata": {},
     "output_type": "display_data"
    }
   ],
   "source": [
    "\n",
    "# --- Visualización: tasas de conversión con IC ---\n",
    "plt.figure(figsize=(7,5))\n",
    "plt.bar(summary.index, summary[\"conversion_rate_%\"], color=[\"skyblue\",\"salmon\"], alpha=0.8)\n",
    "plt.title(\"Tasa de Conversión por Grupo\")\n",
    "plt.ylabel(\"Tasa de conversión (%)\")\n",
    "plt.xlabel(\"Grupo\")\n",
    "plt.grid(True, axis=\"y\", linestyle=\"--\", alpha=0.6)\n",
    "plt.show()\n",
    "\n",
    "# --- Gráfico de distribución de conversiones ---\n",
    "plt.figure(figsize=(7,4))\n",
    "ab_data.groupby(\"group\")[\"converted\"].mean().plot(kind=\"bar\", color=[\"#66b3ff\",\"#ff9999\"])\n",
    "plt.title(\"Promedio de Conversión (0/1) por Grupo\")\n",
    "plt.ylabel(\"Probabilidad de conversión\")\n",
    "plt.grid(True, axis=\"y\", linestyle=\"--\", alpha=0.6)\n",
    "plt.show()\n"
   ]
  },
  {
   "cell_type": "markdown",
   "id": "54566dd7",
   "metadata": {},
   "source": [
    "\n",
    "## 🧠 Conclusiones del experimento A/B\n",
    "\n",
    "1. Se utilizó un **test Z de proporciones** y un **test χ²** para contrastar la hipótesis nula (*H₀*: no hay diferencia).  \n",
    "2. El **p-value** determina si la diferencia observada en conversiones entre grupo A y B es estadísticamente significativa.  \n",
    "3. Se calcularon los **intervalos de confianza (95%)** para cada grupo, permitiendo visualizar el rango plausible de tasas.  \n",
    "4. El **tamaño del efecto (Cohen’s h)** cuantifica la magnitud real de la diferencia, independiente del tamaño muestral.  \n",
    "5. El **análisis de poder (power)** estima la probabilidad de detectar un efecto verdadero del tamaño observado.  \n",
    "\n"
   ]
  }
 ],
 "metadata": {
  "kernelspec": {
   "display_name": "base",
   "language": "python",
   "name": "python3"
  },
  "language_info": {
   "codemirror_mode": {
    "name": "ipython",
    "version": 3
   },
   "file_extension": ".py",
   "mimetype": "text/x-python",
   "name": "python",
   "nbconvert_exporter": "python",
   "pygments_lexer": "ipython3",
   "version": "3.12.7"
  }
 },
 "nbformat": 4,
 "nbformat_minor": 5
}
